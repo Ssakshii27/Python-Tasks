{
 "cells": [
  {
   "cell_type": "markdown",
   "id": "593dc01e",
   "metadata": {},
   "source": [
    "Create Variables:\n",
    "\n",
    "• Create a variable name and assign your name as a string.\n",
    "\n",
    "• Create a variable age and assign your age as an integer.\n",
    "\n",
    "• Create a variable height in meters as a float.\n",
    "\n",
    "• Create a variable is_student and assign a boolean value."
   ]
  },
  {
   "cell_type": "code",
   "execution_count": 7,
   "id": "2b12478a",
   "metadata": {},
   "outputs": [],
   "source": [
    "name='Sakshi'\n",
    "age=22\n",
    "height=1.59\n",
    "is_student=True"
   ]
  },
  {
   "cell_type": "markdown",
   "id": "9ee9b78c",
   "metadata": {},
   "source": [
    "Perform Operations:\n",
    "\n",
    "• Print a sentence using all the variables. Example:\n",
    "\n",
    "\"My name is Vijay, I am 25 years old, my height is 1.75 meters, and it is True that I am a student.\""
   ]
  },
  {
   "cell_type": "code",
   "execution_count": 9,
   "id": "015c8bd6",
   "metadata": {},
   "outputs": [
    {
     "name": "stdout",
     "output_type": "stream",
     "text": [
      "My name is Sakshi, I am 22 years old, my height is 1.59 meters, and it is True that I am a student.\n"
     ]
    }
   ],
   "source": [
    "print(f'My name is {name}, I am {age} years old, my height is {height} meters, and it is {is_student} that I am a student.')"
   ]
  },
  {
   "cell_type": "markdown",
   "id": "5a327c79",
   "metadata": {},
   "source": [
    "List Practice:\n",
    "\n",
    "• Create a list called favorite_numbers containing 5 integers of your choice.\n",
    "\n",
    "• Print the first and last number in the list.\n",
    "\n",
    "• Add another number to the list and print the updated list."
   ]
  },
  {
   "cell_type": "code",
   "execution_count": 16,
   "id": "818fd3af",
   "metadata": {},
   "outputs": [
    {
     "name": "stdout",
     "output_type": "stream",
     "text": [
      "27\n",
      "22\n",
      "[27, 7, 2002, 22, 25]\n"
     ]
    }
   ],
   "source": [
    "favorite_numbers=[27,7,2002,22]\n",
    "print(favorite_numbers[0]) #first number\n",
    "print(favorite_numbers[-1]) #last number\n",
    "favorite_numbers.append(25)\n",
    "print(favorite_numbers)"
   ]
  },
  {
   "cell_type": "markdown",
   "id": "0f2716c0",
   "metadata": {},
   "source": [
    "Tuple Practice:\n",
    "\n",
    "• Create a tuple dimensions containing 3 float values representing length, width, and height of a box.\n",
    "\n",
    "• Print the tuple."
   ]
  },
  {
   "cell_type": "code",
   "execution_count": 17,
   "id": "197943ca",
   "metadata": {},
   "outputs": [
    {
     "name": "stdout",
     "output_type": "stream",
     "text": [
      "(8.5, 4.25, 6.5)\n"
     ]
    }
   ],
   "source": [
    "tup=(8.5,4.25,6.5)\n",
    "print(tup)"
   ]
  },
  {
   "cell_type": "markdown",
   "id": "d942136d",
   "metadata": {},
   "source": [
    "Set Practice:\n",
    "\n",
    "• Create a set called unique_colors with at least 4 colors.\n",
    "\n",
    "• Add a new color to the set\n",
    "\n",
    "• Remove a color from the set.\n",
    "\n",
    "• Print the updated set."
   ]
  },
  {
   "cell_type": "code",
   "execution_count": 28,
   "id": "0123f49b",
   "metadata": {},
   "outputs": [
    {
     "name": "stdout",
     "output_type": "stream",
     "text": [
      "{'orange', 'green', 'blue', 'black'}\n"
     ]
    }
   ],
   "source": [
    "unique_colors={'red','blue','green','black'}\n",
    "unique_colors.add('orange')\n",
    "unique_colors.remove('red')\n",
    "print(unique_colors)"
   ]
  },
  {
   "cell_type": "markdown",
   "id": "14977d02",
   "metadata": {},
   "source": [
    "Dictionary Practice:\n",
    "\n",
    "• Create a dictionary called student_info with the following keys: name, age, courses.\n",
    "\n",
    "courses should be a list of 3 course names.\n",
    "\n",
    "• Print the value of courses from the dictionary.\n",
    "\n",
    "• Add a new key graduated with a boolean value."
   ]
  },
  {
   "cell_type": "code",
   "execution_count": 44,
   "id": "c1a5dea6",
   "metadata": {},
   "outputs": [
    {
     "name": "stdout",
     "output_type": "stream",
     "text": [
      "['English', 'Maths', 'Science']\n",
      "{'name': 'Sakshi', 'age': 22, 'courses': ['English', 'Maths', 'Science'], 'graduated': True}\n"
     ]
    }
   ],
   "source": [
    "student_info={'name':'Sakshi','age':22,'courses':['English','Maths','Science']}\n",
    "print(student_info['courses'])\n",
    "student_info['graduated']=True\n",
    "print(student_info)"
   ]
  },
  {
   "cell_type": "markdown",
   "id": "3fe9ead2",
   "metadata": {},
   "source": [
    "Bonus Challenge:\n",
    "\n",
    "Write a function print_student_summary(student_dict) that takes the student_infodictionary and prints a summary of the student in a readable format"
   ]
  },
  {
   "cell_type": "code",
   "execution_count": 61,
   "id": "2fe810e4",
   "metadata": {},
   "outputs": [
    {
     "name": "stdout",
     "output_type": "stream",
     "text": [
      "My Name is Sakshi and I am 22 years old. My courses are ['English', 'Maths', 'Science'] and is it True that I am graduated.\n"
     ]
    }
   ],
   "source": [
    "def print_student_summary(student_dict):\n",
    "    print(f'My Name is {student_info['name']} and I am {student_info['age']} years old. My courses are {student_info['courses']} and is it {student_info['graduated']} that I am graduated.' )\n",
    "print_student_summary(student_info)"
   ]
  }
 ],
 "metadata": {
  "kernelspec": {
   "display_name": "base",
   "language": "python",
   "name": "python3"
  },
  "language_info": {
   "codemirror_mode": {
    "name": "ipython",
    "version": 3
   },
   "file_extension": ".py",
   "mimetype": "text/x-python",
   "name": "python",
   "nbconvert_exporter": "python",
   "pygments_lexer": "ipython3",
   "version": "3.12.7"
  }
 },
 "nbformat": 4,
 "nbformat_minor": 5
}
