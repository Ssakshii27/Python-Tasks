{
 "cells": [
  {
   "cell_type": "markdown",
   "id": "a41748b9",
   "metadata": {},
   "source": [
    "Grading System (Conditionals):\n",
    "\n",
    "• Create a variable score and assign an integer value between 0 and 100.\n",
    "\n",
    "• Write an if-elif-else block to print the grade according to this scale:\n",
    "\n",
    "o 90 - 100 : Grade A\n",
    "\n",
    "o 80 - 89 : Grade B\n",
    "\n",
    "o 70 - 79 : Grade C\n",
    "\n",
    "o 60 - 69 : Grade D\n",
    "\n",
    "o 0 - 59 : Grade F\n",
    "\n",
    "o For any value not in 0-100, print \"Invalid score\"."
   ]
  },
  {
   "cell_type": "code",
   "execution_count": 3,
   "id": "566920be",
   "metadata": {},
   "outputs": [
    {
     "name": "stdout",
     "output_type": "stream",
     "text": [
      "Grade C\n"
     ]
    }
   ],
   "source": [
    "score=79\n",
    "if(score in range(90,101)):\n",
    "    print('Grade A')\n",
    "elif(score in range(80,90)):\n",
    "    print('Grade B')\n",
    "elif(score in range(70,80)):\n",
    "    print('Grade C')\n",
    "elif(score in range(60,70)):\n",
    "    print('Grade D')\n",
    "elif(score in range(0,60)):\n",
    "    print('Grade F')\n",
    "else: \n",
    "    print('Invalid Score')"
   ]
  },
  {
   "cell_type": "markdown",
   "id": "60111c7a",
   "metadata": {},
   "source": [
    "Loop through a List of Students (For Loop):\n",
    "\n",
    "• Create a list students_scores that contains 5 student scores (integers).\n",
    "\n",
    "• Use a for loop to:\n",
    "\n",
    "o Print each student's score.\n",
    "\n",
    "o Print each student's corresponding grade (use the same grading logic as above)."
   ]
  },
  {
   "cell_type": "code",
   "execution_count": 10,
   "id": "bfe9b173",
   "metadata": {},
   "outputs": [
    {
     "name": "stdout",
     "output_type": "stream",
     "text": [
      "75\n",
      "Grade C\n",
      "87\n",
      "Grade B\n",
      "56\n",
      "Grade F\n",
      "97\n",
      "Grade A\n",
      "64\n",
      "Grade D\n"
     ]
    }
   ],
   "source": [
    "student_scores=[75,87,56,97,64]\n",
    "for i in student_scores:\n",
    "    print(i)\n",
    "    if(i in range(90,101)):\n",
    "        print('Grade A')\n",
    "    elif(i in range(80,90)):\n",
    "        print('Grade B')\n",
    "    elif(i in range(70,80)):\n",
    "        print('Grade C')\n",
    "    elif(i in range(60,70)):\n",
    "        print('Grade D')\n",
    "    elif(i in range(0,60)):\n",
    "        print('Grade F')\n",
    "    else: \n",
    "        print('Invalid Score')"
   ]
  },
  {
   "cell_type": "markdown",
   "id": "677a70b0",
   "metadata": {},
   "source": [
    "While Loop for User Input:\n",
    "\n",
    "• Use a while loop to repeatedly ask the user to enter a score.\n",
    "\n",
    "• For each entered score:\n",
    "\n",
    "o Print the corresponding grade.\n",
    "\n",
    "o The loop should stop when the user types \"exit\".\n"
   ]
  },
  {
   "cell_type": "code",
   "execution_count": 29,
   "id": "68f58604",
   "metadata": {},
   "outputs": [],
   "source": [
    "while True:\n",
    "    scor=input(\"Enter a score (or type 'exit' to stop): \")\n",
    "    if scor=='exit':\n",
    "        break\n",
    "    if scor.isdigit()==True:\n",
    "        scor=int(scor)\n",
    "        if(scor in range(90,101)):\n",
    "            print('Grade A')\n",
    "        elif(scor in range(80,90)):\n",
    "            print('Grade B')\n",
    "        elif(scor in range(70,80)):\n",
    "            print('Grade C')\n",
    "        elif(scor in range(60,70)):\n",
    "            print('Grade D')\n",
    "        elif(scor in range(0,60)):\n",
    "            print('Grade F')\n",
    "        else: \n",
    "            print('Invalid Score')\n"
   ]
  },
  {
   "cell_type": "markdown",
   "id": "ecb70c32",
   "metadata": {},
   "source": [
    "Bonus Task — Use break and continue:\n",
    "\n",
    "• Inside the while loop:\n",
    "\n",
    "o If the user enters a negative number, print \"Negative score not allowed\"and use continue to skip the rest of the loop.\n",
    "\n",
    "o If the user enters \"exit\", use break to stop the loop"
   ]
  },
  {
   "cell_type": "code",
   "execution_count": 33,
   "id": "27febe62",
   "metadata": {},
   "outputs": [
    {
     "name": "stdout",
     "output_type": "stream",
     "text": [
      "Grade F\n",
      "Grade C\n",
      "Grade A\n",
      "Grade A\n",
      "Invalid Score\n",
      "Negative score not allowed\n",
      "Grade F\n",
      "Grade F\n",
      "Negative score not allowed\n",
      "Grade A\n"
     ]
    }
   ],
   "source": [
    "while True:\n",
    "    scor=input(\"Enter a score (or type 'exit' to stop): \")\n",
    "    if scor=='exit':\n",
    "        break\n",
    "    if scor.lstrip('-').isdigit():\n",
    "        scor=int(scor)\n",
    "        if scor<0:\n",
    "            print(\"Negative score not allowed\")\n",
    "            continue\n",
    "        if(scor in range(90,101)):\n",
    "            print('Grade A')\n",
    "        elif(scor in range(80,90)):\n",
    "            print('Grade B')\n",
    "        elif(scor in range(70,80)):\n",
    "            print('Grade C')\n",
    "        elif(scor in range(60,70)):\n",
    "            print('Grade D')\n",
    "        elif(scor in range(0,60)):\n",
    "            print('Grade F')\n",
    "        else: \n",
    "            print('Invalid Score')\n"
   ]
  },
  {
   "cell_type": "code",
   "execution_count": null,
   "id": "da708797",
   "metadata": {},
   "outputs": [
    {
     "name": "stdout",
     "output_type": "stream",
     "text": [
      "Grade F\n",
      "Grade D\n",
      "Grade C\n",
      "Negative score not allowed\n",
      "Negative score not allowed\n",
      "Grade A\n",
      "Invalid Score\n"
     ]
    }
   ],
   "source": [
    "while True:\n",
    "    scor = input(\"Enter a score (or type 'exit' to stop): \")\n",
    "    if scor.lower() == 'exit':\n",
    "        break\n",
    "    try:\n",
    "        scor = int(scor)\n",
    "        if scor < 0:\n",
    "            print(\"Negative score not allowed\")\n",
    "            continue\n",
    "        if scor in range(90, 101):\n",
    "            print('Grade A')\n",
    "        elif scor in range(80, 90):\n",
    "            print('Grade B')\n",
    "        elif scor in range(70, 80):\n",
    "            print('Grade C')\n",
    "        elif scor in range(60, 70):\n",
    "            print('Grade D')\n",
    "        elif scor in range(0, 60):\n",
    "            print('Grade F')\n",
    "        else:\n",
    "            print('Invalid Score')\n",
    "    except ValueError:\n",
    "        print(\"Invalid input.\")"
   ]
  }
 ],
 "metadata": {
  "kernelspec": {
   "display_name": "base",
   "language": "python",
   "name": "python3"
  },
  "language_info": {
   "codemirror_mode": {
    "name": "ipython",
    "version": 3
   },
   "file_extension": ".py",
   "mimetype": "text/x-python",
   "name": "python",
   "nbconvert_exporter": "python",
   "pygments_lexer": "ipython3",
   "version": "3.12.7"
  }
 },
 "nbformat": 4,
 "nbformat_minor": 5
}
